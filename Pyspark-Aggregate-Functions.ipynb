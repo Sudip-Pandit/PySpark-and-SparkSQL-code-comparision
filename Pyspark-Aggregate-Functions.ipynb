{
 "cells": [
  {
   "cell_type": "markdown",
   "id": "b4197196",
   "metadata": {},
   "source": [
    "## Sudip P. Notebook\n"
   ]
  },
  {
   "cell_type": "markdown",
   "id": "d80dfd75",
   "metadata": {},
   "source": [
    "import pyspark\n",
    "from pyspark.sql.functions import *\n",
    "from pyspark.sql.types import *\n",
    "from pyspark.sql import SparkSession\n",
    "from pyspark.sql import functions as F, types as T"
   ]
  },
  {
   "cell_type": "markdown",
   "id": "382b736f",
   "metadata": {},
   "source": [
    "### Reading the product dataset in Parquet format (there are 4 files and I am reading all of them in one shot)"
   ]
  },
  {
   "cell_type": "code",
   "execution_count": 6,
   "id": "b3c061f4",
   "metadata": {},
   "outputs": [],
   "source": [
    "df = spark.read.format(\"orc\").option(\"header\",\"true\").load(\"file:///D:/data/product_parquet/\")"
   ]
  },
  {
   "cell_type": "code",
   "execution_count": 7,
   "id": "35b262b1",
   "metadata": {},
   "outputs": [
    {
     "name": "stdout",
     "output_type": "stream",
     "text": [
      "+----------+-------------------+--------------------+-------------------+-------------+--------------------+\n",
      "|product_id|product_category_id|        product_name|product_description|product_price|       product_image|\n",
      "+----------+-------------------+--------------------+-------------------+-------------+--------------------+\n",
      "|      1009|                 45|Diamond Fear No E...|                   |       599.99|http://images.acm...|\n",
      "|      1010|                 46|DBX Vector Series...|                   |        19.98|http://images.acm...|\n",
      "|      1011|                 46|Old Town Canoe Sa...|                   |       499.99|http://images.acm...|\n",
      "|      1012|                 46|Pelican Trailblaz...|                   |       299.99|http://images.acm...|\n",
      "|      1013|                 46|Perception Sport ...|                   |       349.99|http://images.acm...|\n",
      "+----------+-------------------+--------------------+-------------------+-------------+--------------------+\n",
      "only showing top 5 rows\n",
      "\n"
     ]
    }
   ],
   "source": [
    "df.show(5)"
   ]
  },
  {
   "cell_type": "code",
   "execution_count": 32,
   "id": "5c57f8c3",
   "metadata": {},
   "outputs": [
    {
     "name": "stdout",
     "output_type": "stream",
     "text": [
      "+-------------------+------------------+\n",
      "|product_category_id|avg(product_price)|\n",
      "+-------------------+------------------+\n",
      "|                 59|  74.4154167175293|\n",
      "|                 58| 81.16666666666667|\n",
      "|                 57| 83.11750133832295|\n",
      "|                 56| 68.78916716575623|\n",
      "|                 55| 31.49833329518636|\n",
      "|                 54|  98.5733338991801|\n",
      "|                 53|  135.198335647583|\n",
      "|                 52| 56.49958340326945|\n",
      "|                 51| 108.7441684405009|\n",
      "|                 50|              85.5|\n",
      "|                 49|156.44624829292297|\n",
      "|                 48| 285.4045789241791|\n",
      "|                 47|208.53041450182596|\n",
      "|                 46|264.65457820892334|\n",
      "|                 45|201.15624849001566|\n",
      "|                 44|111.57250086466472|\n",
      "|                 43| 283.9045820236206|\n",
      "|                 42|127.99200286865235|\n",
      "|                 41| 74.05520850419998|\n",
      "|                 40|24.989999771118164|\n",
      "+-------------------+------------------+\n",
      "only showing top 20 rows\n",
      "\n"
     ]
    }
   ],
   "source": [
    "agg_df = df.groupBy(\"product_category_id\").agg(avg(\"product_price\")).orderBy(desc(\"product_category_id\")).show()"
   ]
  },
  {
   "cell_type": "code",
   "execution_count": 33,
   "id": "b4fd8ae0",
   "metadata": {},
   "outputs": [
    {
     "name": "stdout",
     "output_type": "stream",
     "text": [
      "+-------------------+----------------------------+\n",
      "|product_category_id|round(avg(product_price), 0)|\n",
      "+-------------------+----------------------------+\n",
      "|                 59|                        74.0|\n",
      "|                 58|                        81.0|\n",
      "|                 57|                        83.0|\n",
      "|                 56|                        69.0|\n",
      "|                 55|                        31.0|\n",
      "|                 54|                        99.0|\n",
      "|                 53|                       135.0|\n",
      "|                 52|                        56.0|\n",
      "|                 51|                       109.0|\n",
      "|                 50|                        86.0|\n",
      "|                 49|                       156.0|\n",
      "|                 48|                       285.0|\n",
      "|                 47|                       209.0|\n",
      "|                 46|                       265.0|\n",
      "|                 45|                       201.0|\n",
      "|                 44|                       112.0|\n",
      "|                 43|                       284.0|\n",
      "|                 42|                       128.0|\n",
      "|                 41|                        74.0|\n",
      "|                 40|                        25.0|\n",
      "+-------------------+----------------------------+\n",
      "only showing top 20 rows\n",
      "\n"
     ]
    }
   ],
   "source": [
    "agg_rnd_df = df.groupBy(\"product_category_id\").agg(round(avg(\"product_price\"))).orderBy(desc(\"product_category_id\")).show()"
   ]
  },
  {
   "cell_type": "markdown",
   "id": "a092fb8a",
   "metadata": {},
   "source": [
    "### Max product price"
   ]
  },
  {
   "cell_type": "code",
   "execution_count": 16,
   "id": "3acc55d6",
   "metadata": {},
   "outputs": [
    {
     "name": "stdout",
     "output_type": "stream",
     "text": [
      "+-------------------+------------------+\n",
      "|product_category_id|max(product_price)|\n",
      "+-------------------+------------------+\n",
      "|                 59|             100.0|\n",
      "|                 58|             241.0|\n",
      "|                 57|            189.99|\n",
      "|                 56|            159.99|\n",
      "|                 55|              85.0|\n",
      "|                 54|            299.99|\n",
      "|                 53|            199.99|\n",
      "|                 52|             170.0|\n",
      "|                 51|            219.99|\n",
      "|                 50|             130.0|\n",
      "|                 49|            399.99|\n",
      "|                 48|            799.99|\n",
      "|                 47|           1099.99|\n",
      "|                 46|            549.99|\n",
      "|                 45|            599.99|\n",
      "|                 44|            399.99|\n",
      "|                 43|            449.99|\n",
      "|                 42|            179.99|\n",
      "|                 41|            399.99|\n",
      "|                 40|             24.99|\n",
      "+-------------------+------------------+\n",
      "only showing top 20 rows\n",
      "\n"
     ]
    }
   ],
   "source": [
    "max_product_df = df.groupBy(\"product_category_id\").agg(max(\"product_price\")).orderBy(desc(\"product_category_id\")).show()"
   ]
  },
  {
   "cell_type": "markdown",
   "id": "0e475649",
   "metadata": {},
   "source": [
    "### Min value"
   ]
  },
  {
   "cell_type": "code",
   "execution_count": 18,
   "id": "542b8d80",
   "metadata": {},
   "outputs": [
    {
     "name": "stdout",
     "output_type": "stream",
     "text": [
      "+-------------------+------------------+\n",
      "|product_category_id|min(product_price)|\n",
      "+-------------------+------------------+\n",
      "|                 59|              28.0|\n",
      "|                 58|              22.0|\n",
      "|                 57|               0.0|\n",
      "|                 56|              9.99|\n",
      "|                 55|              9.99|\n",
      "|                 54|             34.99|\n",
      "|                 53|             69.99|\n",
      "|                 52|              10.0|\n",
      "|                 51|              28.0|\n",
      "|                 50|              34.0|\n",
      "|                 49|             19.98|\n",
      "|                 48|             19.98|\n",
      "|                 47|             21.99|\n",
      "|                 46|             19.98|\n",
      "|                 45|             27.99|\n",
      "|                 44|             21.99|\n",
      "|                 43|              99.0|\n",
      "|                 42|               0.0|\n",
      "|                 41|              9.59|\n",
      "|                 40|             24.99|\n",
      "+-------------------+------------------+\n",
      "only showing top 20 rows\n",
      "\n"
     ]
    }
   ],
   "source": [
    "min_product_df = df.groupBy(\"product_category_id\").min(\"product_price\").orderBy(desc(\"product_category_id\")).show()"
   ]
  },
  {
   "cell_type": "markdown",
   "id": "fbbcd407",
   "metadata": {},
   "source": [
    "### Doing aggregate and alias"
   ]
  },
  {
   "cell_type": "code",
   "execution_count": 25,
   "id": "d1b8beb7",
   "metadata": {},
   "outputs": [
    {
     "name": "stdout",
     "output_type": "stream",
     "text": [
      "+-------------------+--------------------+\n",
      "|product_category_id|count(product_price)|\n",
      "+-------------------+--------------------+\n",
      "|                 31|                  24|\n",
      "|                 53|                  24|\n",
      "|                 34|                  24|\n",
      "|                 26|                  24|\n",
      "|                 27|                  24|\n",
      "|                 44|                  24|\n",
      "|                 12|                  24|\n",
      "|                 22|                  24|\n",
      "|                 47|                  24|\n",
      "|                 52|                  24|\n",
      "|                 13|                  24|\n",
      "|                  6|                  24|\n",
      "|                 16|                  24|\n",
      "|                  3|                  24|\n",
      "|                 40|                  24|\n",
      "|                 20|                  24|\n",
      "|                 57|                  24|\n",
      "|                 54|                  24|\n",
      "|                 48|                  24|\n",
      "|                  5|                  24|\n",
      "+-------------------+--------------------+\n",
      "only showing top 20 rows\n",
      "\n"
     ]
    }
   ],
   "source": [
    "count_df = df.groupBy(\"product_category_id\").agg(count(\"product_price\")).show()"
   ]
  },
  {
   "cell_type": "code",
   "execution_count": 26,
   "id": "5b0d953c",
   "metadata": {},
   "outputs": [
    {
     "name": "stdout",
     "output_type": "stream",
     "text": [
      "+-------------------+--------------------+\n",
      "|product_category_id|count(product_price)|\n",
      "+-------------------+--------------------+\n",
      "|                  2|                  24|\n",
      "|                  3|                  24|\n",
      "|                  4|                  24|\n",
      "|                  5|                  24|\n",
      "|                  6|                  24|\n",
      "|                  7|                  24|\n",
      "|                  8|                  24|\n",
      "|                  9|                  24|\n",
      "|                 10|                  24|\n",
      "|                 11|                  24|\n",
      "|                 12|                  24|\n",
      "|                 13|                  24|\n",
      "|                 15|                  24|\n",
      "|                 16|                  24|\n",
      "|                 17|                  20|\n",
      "|                 18|                  24|\n",
      "|                 19|                  24|\n",
      "|                 20|                  24|\n",
      "|                 21|                  24|\n",
      "|                 22|                  24|\n",
      "+-------------------+--------------------+\n",
      "only showing top 20 rows\n",
      "\n"
     ]
    }
   ],
   "source": [
    "count_df_alias = df.groupBy(\"product_category_id\").agg(count(\"product_price\")).alias(\"count\").orderBy(\"product_category_id\").show()"
   ]
  },
  {
   "cell_type": "markdown",
   "id": "7dbabd1e",
   "metadata": {},
   "source": [
    "### Grouping on Multiple Columns"
   ]
  },
  {
   "cell_type": "code",
   "execution_count": 29,
   "id": "994501f3",
   "metadata": {},
   "outputs": [
    {
     "name": "stdout",
     "output_type": "stream",
     "text": [
      "+-------------------+--------------------+--------------------+\n",
      "|product_category_id|        product_name|count(product_price)|\n",
      "+-------------------+--------------------+--------------------+\n",
      "|                 46|Quest Pioneer Adj...|                   1|\n",
      "|                 33|LIJA Women's Open...|                   1|\n",
      "|                 43|Diamondback Boys'...|                   1|\n",
      "|                  5|Nike Men's KD VI ...|                   1|\n",
      "|                 12|Fitness Gear Pro ...|                   1|\n",
      "|                 52|Reebok Men's Wash...|                   1|\n",
      "|                 53|Nike Kids' Grade ...|                   3|\n",
      "|                 36|FootJoy Men's Sta...|                   1|\n",
      "|                 41|Glove It Women's ...|                   1|\n",
      "|                 43|Thule Trailway 4-...|                   1|\n",
      "|                  3|Nike Men's USA Aw...|                   1|\n",
      "|                 27|Nike Men's Deutsc...|                   1|\n",
      "|                 44|SKLZ Sport-Brella XL|                   1|\n",
      "|                  8|Nike Men's Comfor...|                   1|\n",
      "|                  9|PUMA Men's evoPOW...|                   1|\n",
      "|                 16|PRIMED 12' x 6' I...|                   1|\n",
      "|                 21|Under Armour Kids...|                   1|\n",
      "|                 47|Lifetime Elite 52...|                   1|\n",
      "|                 50|Majestic Youth 20...|                   1|\n",
      "|                 12|Nike Women's Free...|                   1|\n",
      "+-------------------+--------------------+--------------------+\n",
      "only showing top 20 rows\n",
      "\n"
     ]
    }
   ],
   "source": [
    "multiple_col_df = df.groupBy(\"product_category_id\", \"product_name\").agg(count(\"product_price\")).show()"
   ]
  },
  {
   "cell_type": "markdown",
   "id": "a0c274be",
   "metadata": {},
   "source": [
    "### Can run multiple aggregate funcitons "
   ]
  },
  {
   "cell_type": "code",
   "execution_count": 30,
   "id": "26944ecd",
   "metadata": {},
   "outputs": [
    {
     "name": "stdout",
     "output_type": "stream",
     "text": [
      "+-------------------+-------------+-------------+------------------+-------------------------+\n",
      "|product_category_id|maximum_price|minimum_price|     average_price|count_product_category_id|\n",
      "+-------------------+-------------+-------------+------------------+-------------------------+\n",
      "|                 59|        100.0|         28.0|  74.4154167175293|                       24|\n",
      "|                 58|        241.0|         22.0| 81.16666666666667|                       24|\n",
      "|                 57|       189.99|          0.0| 83.11750133832295|                       24|\n",
      "|                 56|       159.99|         9.99| 68.78916716575623|                       24|\n",
      "|                 55|         85.0|         9.99| 31.49833329518636|                       24|\n",
      "|                 54|       299.99|        34.99|  98.5733338991801|                       24|\n",
      "|                 53|       199.99|        69.99|  135.198335647583|                       24|\n",
      "|                 52|        170.0|         10.0| 56.49958340326945|                       24|\n",
      "|                 51|       219.99|         28.0| 108.7441684405009|                       24|\n",
      "|                 50|        130.0|         34.0|              85.5|                       24|\n",
      "|                 49|       399.99|        19.98|156.44624829292297|                       24|\n",
      "|                 48|       799.99|        19.98| 285.4045789241791|                       24|\n",
      "|                 47|      1099.99|        21.99|208.53041450182596|                       24|\n",
      "|                 46|       549.99|        19.98|264.65457820892334|                       24|\n",
      "|                 45|       599.99|        27.99|201.15624849001566|                       24|\n",
      "|                 44|       399.99|        21.99|111.57250086466472|                       24|\n",
      "|                 43|       449.99|         99.0| 283.9045820236206|                       24|\n",
      "|                 42|       179.99|          0.0|127.99200286865235|                        5|\n",
      "|                 41|       399.99|         9.59| 74.05520850419998|                       48|\n",
      "|                 40|        24.99|        24.99|24.989999771118164|                       24|\n",
      "+-------------------+-------------+-------------+------------------+-------------------------+\n",
      "only showing top 20 rows\n",
      "\n"
     ]
    }
   ],
   "source": [
    "mul_agg_df = df.groupBy(\"product_category_id\").agg(\n",
    "    max(\"product_price\").alias(\"maximum_price\"),\n",
    "    min(\"product_price\").alias(\"minimum_price\"),\n",
    "    avg(\"product_price\").alias(\"average_price\"),\n",
    "    count(\"product_category_id\").alias(\"count_product_category_id\")\n",
    ").orderBy(desc(\"product_category_id\")).show()"
   ]
  },
  {
   "cell_type": "markdown",
   "id": "f0cbe238",
   "metadata": {},
   "source": [
    "### Trying Where on Aggregate DataFrame"
   ]
  },
  {
   "cell_type": "code",
   "execution_count": 43,
   "id": "52617569",
   "metadata": {},
   "outputs": [
    {
     "name": "stdout",
     "output_type": "stream",
     "text": [
      "+-------------------+-------------+-------------+------------------+-------------------------+\n",
      "|product_category_id|maximum_price|minimum_price|average_price     |count_product_category_id|\n",
      "+-------------------+-------------+-------------+------------------+-------------------------+\n",
      "|31                 |899.99       |79.99        |294.7837489446004 |24                       |\n",
      "|53                 |199.99       |69.99        |135.198335647583  |24                       |\n",
      "|34                 |169.99       |34.99        |122.6983364423116 |24                       |\n",
      "|26                 |90.0         |18.0         |41.664583683013916|24                       |\n",
      "|27                 |90.0         |18.0         |44.164583365122475|24                       |\n",
      "|44                 |399.99       |21.99        |111.57250086466472|24                       |\n",
      "|12                 |179.99       |16.99        |69.69791618982951 |24                       |\n",
      "|22                 |1799.99      |21.99        |187.53083181381226|24                       |\n",
      "|47                 |1099.99      |21.99        |208.53041450182596|24                       |\n",
      "|52                 |170.0        |10.0         |56.49958340326945 |24                       |\n",
      "|13                 |199.99       |21.99        |48.82333381970724 |24                       |\n",
      "|6                  |399.99       |14.0         |84.15583324432373 |24                       |\n",
      "|16                 |349.99       |27.99        |118.1150000890096 |24                       |\n",
      "|3                  |199.99       |0.0          |79.95083475112915 |24                       |\n",
      "|40                 |24.99        |24.99        |24.989999771118164|24                       |\n",
      "|20                 |249.99       |22.0         |100.44458309809367|24                       |\n",
      "|57                 |189.99       |0.0          |83.11750133832295 |24                       |\n",
      "|54                 |299.99       |34.99        |98.5733338991801  |24                       |\n",
      "|48                 |799.99       |19.98        |285.4045789241791 |24                       |\n",
      "|5                  |499.99       |14.0         |127.86458428700765|24                       |\n",
      "+-------------------+-------------+-------------+------------------+-------------------------+\n",
      "only showing top 20 rows\n",
      "\n"
     ]
    }
   ],
   "source": [
    "mul_agg_where_df = df.groupBy(\"product_category_id\").agg(\n",
    "    max(\"product_price\").alias(\"maximum_price\"),\n",
    "    min(\"product_price\").alias(\"minimum_price\"),\n",
    "    avg(\"product_price\").alias(\"average_price\"),\n",
    "    count(\"product_category_id\").alias(\"count_product_category_id\"))\\\n",
    "    .where(col(\"average_price\") > 22).show(truncate=False)"
   ]
  },
  {
   "cell_type": "code",
   "execution_count": null,
   "id": "9032a603",
   "metadata": {},
   "outputs": [],
   "source": []
  }
 ],
 "metadata": {
  "kernelspec": {
   "display_name": "Python 3 (ipykernel)",
   "language": "python",
   "name": "python3"
  },
  "language_info": {
   "codemirror_mode": {
    "name": "ipython",
    "version": 3
   },
   "file_extension": ".py",
   "mimetype": "text/x-python",
   "name": "python",
   "nbconvert_exporter": "python",
   "pygments_lexer": "ipython3",
   "version": "3.9.7"
  }
 },
 "nbformat": 4,
 "nbformat_minor": 5
}

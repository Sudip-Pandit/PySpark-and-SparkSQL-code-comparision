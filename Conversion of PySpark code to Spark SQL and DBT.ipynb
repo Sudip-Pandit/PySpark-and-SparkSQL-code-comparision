{
 "cells": [
  {
   "cell_type": "code",
   "execution_count": 1,
   "id": "30947326",
   "metadata": {},
   "outputs": [
    {
     "name": "stdout",
     "output_type": "stream",
     "text": [
      "Requirement already satisfied: pyspark in c:\\programdata\\anaconda3\\lib\\site-packages (3.2.1)\n",
      "Requirement already satisfied: py4j==0.10.9.3 in c:\\programdata\\anaconda3\\lib\\site-packages (from pyspark) (0.10.9.3)\n",
      "Note: you may need to restart the kernel to use updated packages.\n"
     ]
    }
   ],
   "source": [
    "pip install pyspark"
   ]
  },
  {
   "cell_type": "code",
   "execution_count": 2,
   "id": "a5878925",
   "metadata": {},
   "outputs": [],
   "source": [
    "import pyspark\n",
    "from pyspark.sql.functions import *\n",
    "from pyspark.sql.types import *\n",
    "from pyspark.sql import SparkSession\n",
    "from pyspark.sql import functions as F, types as T"
   ]
  },
  {
   "cell_type": "code",
   "execution_count": 3,
   "id": "9d35d858",
   "metadata": {},
   "outputs": [],
   "source": [
    "df = spark.read.format(\"csv\").option(\"header\",\"true\").load(\"file:///D:/data/SalesLT.product.csv\")"
   ]
  },
  {
   "cell_type": "code",
   "execution_count": 6,
   "id": "fdcad1c7",
   "metadata": {
    "scrolled": true
   },
   "outputs": [
    {
     "name": "stdout",
     "output_type": "stream",
     "text": [
      "+---------+--------------------+-------------+-----+------------+---------+----+-------+-----------------+--------------+--------------------+-----------+----------------+--------------+----------------------+--------------------+--------------------+\n",
      "|ProductID|                Name|ProductNumber|Color|StandardCost|ListPrice|Size| Weight|ProductCategoryID|ProductModelID|       SellStartDate|SellEndDate|DiscontinuedDate|ThumbNailPhoto|ThumbnailPhotoFileName|             rowguid|        ModifiedDate|\n",
      "+---------+--------------------+-------------+-----+------------+---------+----+-------+-----------------+--------------+--------------------+-----------+----------------+--------------+----------------------+--------------------+--------------------+\n",
      "|      680|HL Road Frame - B...|   FR-R92B-58|Black|   1059.3100|1431.5000|  58|1016.04|               18|             6|2002-06-01T00:00:...|       null|            null|   [B@7fa7208e|  no_image_availabl...|43dd68d6-14a4-461...|2008-03-11T10:01:...|\n",
      "|      706|HL Road Frame - R...|   FR-R92R-58|  Red|   1059.3100|1431.5000|  58|1016.04|               18|             6|2002-06-01T00:00:...|       null|            null|   [B@4941099c|  no_image_availabl...|9540ff17-2712-4c9...|2008-03-11T10:01:...|\n",
      "+---------+--------------------+-------------+-----+------------+---------+----+-------+-----------------+--------------+--------------------+-----------+----------------+--------------+----------------------+--------------------+--------------------+\n",
      "only showing top 2 rows\n",
      "\n"
     ]
    }
   ],
   "source": [
    "df.show(2)"
   ]
  },
  {
   "cell_type": "markdown",
   "id": "93500a58",
   "metadata": {},
   "source": [
    "### Create temp veiw to run the spark sql "
   ]
  },
  {
   "cell_type": "code",
   "execution_count": 7,
   "id": "c8862936",
   "metadata": {},
   "outputs": [],
   "source": [
    "sql_df = df.createOrReplaceTempView(\"sdf\")"
   ]
  },
  {
   "cell_type": "code",
   "execution_count": 8,
   "id": "248414eb",
   "metadata": {},
   "outputs": [
    {
     "name": "stdout",
     "output_type": "stream",
     "text": [
      "root\n",
      " |-- ProductID: string (nullable = true)\n",
      " |-- Name: string (nullable = true)\n",
      " |-- ProductNumber: string (nullable = true)\n",
      " |-- Color: string (nullable = true)\n",
      " |-- StandardCost: string (nullable = true)\n",
      " |-- ListPrice: string (nullable = true)\n",
      " |-- Size: string (nullable = true)\n",
      " |-- Weight: string (nullable = true)\n",
      " |-- ProductCategoryID: string (nullable = true)\n",
      " |-- ProductModelID: string (nullable = true)\n",
      " |-- SellStartDate: string (nullable = true)\n",
      " |-- SellEndDate: string (nullable = true)\n",
      " |-- DiscontinuedDate: string (nullable = true)\n",
      " |-- ThumbNailPhoto: string (nullable = true)\n",
      " |-- ThumbnailPhotoFileName: string (nullable = true)\n",
      " |-- rowguid: string (nullable = true)\n",
      " |-- ModifiedDate: string (nullable = true)\n",
      "\n"
     ]
    }
   ],
   "source": [
    "df.printSchema()"
   ]
  },
  {
   "cell_type": "code",
   "execution_count": 9,
   "id": "c766ce87",
   "metadata": {},
   "outputs": [
    {
     "name": "stdout",
     "output_type": "stream",
     "text": [
      "+---------+--------------------+-------------+-----+------------+---------+----+-------+-----------------+--------------+--------------------+-----------+----------------+--------------+----------------------+--------------------+--------------------+\n",
      "|ProductID|                Name|ProductNumber|Color|StandardCost|ListPrice|Size| Weight|ProductCategoryID|ProductModelID|       SellStartDate|SellEndDate|DiscontinuedDate|ThumbNailPhoto|ThumbnailPhotoFileName|             rowguid|        ModifiedDate|\n",
      "+---------+--------------------+-------------+-----+------------+---------+----+-------+-----------------+--------------+--------------------+-----------+----------------+--------------+----------------------+--------------------+--------------------+\n",
      "|      680|HL Road Frame - B...|   FR-R92B-58|Black|   1059.3100|1431.5000|  58|1016.04|               18|             6|2002-06-01T00:00:...|       null|            null|   [B@7fa7208e|  no_image_availabl...|43dd68d6-14a4-461...|2008-03-11T10:01:...|\n",
      "|      706|HL Road Frame - R...|   FR-R92R-58|  Red|   1059.3100|1431.5000|  58|1016.04|               18|             6|2002-06-01T00:00:...|       null|            null|   [B@4941099c|  no_image_availabl...|9540ff17-2712-4c9...|2008-03-11T10:01:...|\n",
      "|      707|Sport-100 Helmet,...|    HL-U509-R|  Red|     13.0863|  34.9900|null|   null|               35|            33|2005-07-01T00:00:...|       null|            null|   [B@271b37ba|  no_image_availabl...|2e1ef41a-c08a-4ff...|2008-03-11T10:01:...|\n",
      "+---------+--------------------+-------------+-----+------------+---------+----+-------+-----------------+--------------+--------------------+-----------+----------------+--------------+----------------------+--------------------+--------------------+\n",
      "only showing top 3 rows\n",
      "\n"
     ]
    }
   ],
   "source": [
    "prod_model_filter_df = df.filter(col(\"ProductModelID\") >= 6).show(3)"
   ]
  },
  {
   "cell_type": "markdown",
   "id": "a689d56b",
   "metadata": {},
   "source": [
    "### Changing the above code in SparkSQL\n",
    "\n",
    "prod_model_filter_sdf = spark.sql(\"select * from sdf where ProductModelID >= 6\").show(2)"
   ]
  },
  {
   "cell_type": "code",
   "execution_count": 33,
   "id": "9f9db3e9",
   "metadata": {},
   "outputs": [
    {
     "name": "stdout",
     "output_type": "stream",
     "text": [
      "+---------+--------------------+-------------+-----+------------+---------+----+-------+-----------------+--------------+--------------------+-----------+----------------+--------------+----------------------+--------------------+--------------------+\n",
      "|ProductID|                Name|ProductNumber|Color|StandardCost|ListPrice|Size| Weight|ProductCategoryID|ProductModelID|       SellStartDate|SellEndDate|DiscontinuedDate|ThumbNailPhoto|ThumbnailPhotoFileName|             rowguid|        ModifiedDate|\n",
      "+---------+--------------------+-------------+-----+------------+---------+----+-------+-----------------+--------------+--------------------+-----------+----------------+--------------+----------------------+--------------------+--------------------+\n",
      "|      680|HL Road Frame - B...|   FR-R92B-58|Black|   1059.3100|1431.5000|  58|1016.04|               18|             6|2002-06-01T00:00:...|       null|            null|   [B@7fa7208e|  no_image_availabl...|43dd68d6-14a4-461...|2008-03-11T10:01:...|\n",
      "|      706|HL Road Frame - R...|   FR-R92R-58|  Red|   1059.3100|1431.5000|  58|1016.04|               18|             6|2002-06-01T00:00:...|       null|            null|   [B@4941099c|  no_image_availabl...|9540ff17-2712-4c9...|2008-03-11T10:01:...|\n",
      "+---------+--------------------+-------------+-----+------------+---------+----+-------+-----------------+--------------+--------------------+-----------+----------------+--------------+----------------------+--------------------+--------------------+\n",
      "only showing top 2 rows\n",
      "\n"
     ]
    }
   ],
   "source": [
    "prod_model_filter_sdf = spark.sql(\"select * from sdf where ProductModelID >= 6\").show(2)"
   ]
  },
  {
   "cell_type": "markdown",
   "id": "9e4289fb",
   "metadata": {},
   "source": [
    "### renamed the column"
   ]
  },
  {
   "cell_type": "code",
   "execution_count": 11,
   "id": "b5e62b30",
   "metadata": {},
   "outputs": [
    {
     "name": "stdout",
     "output_type": "stream",
     "text": [
      "+---------+--------------------+-------------+-----+------------+---------+----+-------+-----------------+---------------+--------------------+-----------+----------------+--------------+----------------------+--------------------+--------------------+\n",
      "|ProductID|                Name|ProductNumber|Color|StandardCost|ListPrice|Size| Weight|ProductCategoryID|ProductModel_ID|       SellStartDate|SellEndDate|DiscontinuedDate|ThumbNailPhoto|ThumbnailPhotoFileName|             rowguid|        ModifiedDate|\n",
      "+---------+--------------------+-------------+-----+------------+---------+----+-------+-----------------+---------------+--------------------+-----------+----------------+--------------+----------------------+--------------------+--------------------+\n",
      "|      680|HL Road Frame - B...|   FR-R92B-58|Black|   1059.3100|1431.5000|  58|1016.04|               18|              6|2002-06-01T00:00:...|       null|            null|   [B@7fa7208e|  no_image_availabl...|43dd68d6-14a4-461...|2008-03-11T10:01:...|\n",
      "|      706|HL Road Frame - R...|   FR-R92R-58|  Red|   1059.3100|1431.5000|  58|1016.04|               18|              6|2002-06-01T00:00:...|       null|            null|   [B@4941099c|  no_image_availabl...|9540ff17-2712-4c9...|2008-03-11T10:01:...|\n",
      "+---------+--------------------+-------------+-----+------------+---------+----+-------+-----------------+---------------+--------------------+-----------+----------------+--------------+----------------------+--------------------+--------------------+\n",
      "only showing top 2 rows\n",
      "\n"
     ]
    }
   ],
   "source": [
    "renamed_col_df = df.withColumnRenamed(\"ProductModelID\", \"ProductModel_ID\").show(2)"
   ]
  },
  {
   "cell_type": "markdown",
   "id": "6daf38af",
   "metadata": {},
   "source": [
    "### Changing the above code in SparkSQL"
   ]
  },
  {
   "cell_type": "code",
   "execution_count": 15,
   "id": "51b773d6",
   "metadata": {},
   "outputs": [],
   "source": [
    "renamed_col_sdf = spark.sql(\"alter table sdf rename COLUMN  ProductModel_ID to ProductModelID\").show(2)"
   ]
  },
  {
   "cell_type": "code",
   "execution_count": 18,
   "id": "5fb3bf65",
   "metadata": {
    "scrolled": true
   },
   "outputs": [
    {
     "name": "stdout",
     "output_type": "stream",
     "text": [
      "+---------+--------------------+-------------+-----+------------+---------+----+-------+-----------------+--------------+--------------------+-----------+----------------+--------------+----------------------+--------------------+--------------------+\n",
      "|ProductID|                Name|ProductNumber|Color|StandardCost|ListPrice|Size| Weight|ProductCategoryID|ProductModelID|       SellStartDate|SellEndDate|DiscontinuedDate|ThumbNailPhoto|ThumbnailPhotoFileName|             rowguid|        ModifiedDate|\n",
      "+---------+--------------------+-------------+-----+------------+---------+----+-------+-----------------+--------------+--------------------+-----------+----------------+--------------+----------------------+--------------------+--------------------+\n",
      "|      680|HL Road Frame - B...|   FR-R92B-58|Black|   1059.3100|1431.5000|  58|1016.04|               18|             6|2002-06-01T00:00:...|       null|            null|   [B@7fa7208e|  no_image_availabl...|43dd68d6-14a4-461...|2008-03-11T10:01:...|\n",
      "|      706|HL Road Frame - R...|   FR-R92R-58|  Red|   1059.3100|1431.5000|  58|1016.04|               18|             6|2002-06-01T00:00:...|       null|            null|   [B@4941099c|  no_image_availabl...|9540ff17-2712-4c9...|2008-03-11T10:01:...|\n",
      "+---------+--------------------+-------------+-----+------------+---------+----+-------+-----------------+--------------+--------------------+-----------+----------------+--------------+----------------------+--------------------+--------------------+\n",
      "\n"
     ]
    }
   ],
   "source": [
    "spark.sql(\"select * from sdf limit 2\").show(2)"
   ]
  },
  {
   "cell_type": "markdown",
   "id": "90970fa2",
   "metadata": {},
   "source": [
    "### Use condition statement"
   ]
  },
  {
   "cell_type": "code",
   "execution_count": 21,
   "id": "c72cd917",
   "metadata": {},
   "outputs": [
    {
     "name": "stdout",
     "output_type": "stream",
     "text": [
      "+---------+--------------------+-------------+-----+------------+---------+----+-------+-----------------+--------------+--------------------+--------------------+----------------+--------------+----------------------+--------------------+--------------------+---------------------------+\n",
      "|ProductID|                Name|ProductNumber|Color|StandardCost|ListPrice|Size| Weight|ProductCategoryID|ProductModelID|       SellStartDate|         SellEndDate|DiscontinuedDate|ThumbNailPhoto|ThumbnailPhotoFileName|             rowguid|        ModifiedDate|Conditional Syandard Column|\n",
      "+---------+--------------------+-------------+-----+------------+---------+----+-------+-----------------+--------------+--------------------+--------------------+----------------+--------------+----------------------+--------------------+--------------------+---------------------------+\n",
      "|      680|HL Road Frame - B...|   FR-R92B-58|Black|   1059.3100|1431.5000|  58|1016.04|               18|             6|2002-06-01T00:00:...|                null|            null|   [B@7fa7208e|  no_image_availabl...|43dd68d6-14a4-461...|2008-03-11T10:01:...|              High Standard|\n",
      "|      706|HL Road Frame - R...|   FR-R92R-58|  Red|   1059.3100|1431.5000|  58|1016.04|               18|             6|2002-06-01T00:00:...|                null|            null|   [B@4941099c|  no_image_availabl...|9540ff17-2712-4c9...|2008-03-11T10:01:...|              High Standard|\n",
      "|      707|Sport-100 Helmet,...|    HL-U509-R|  Red|     13.0863|  34.9900|null|   null|               35|            33|2005-07-01T00:00:...|                null|            null|   [B@271b37ba|  no_image_availabl...|2e1ef41a-c08a-4ff...|2008-03-11T10:01:...|               low standard|\n",
      "|      708|Sport-100 Helmet,...|      HL-U509|Black|     13.0863|  34.9900|null|   null|               35|            33|2005-07-01T00:00:...|                null|            null|   [B@617ed087|  no_image_availabl...|a25a44fb-c2de-426...|2008-03-11T10:01:...|               low standard|\n",
      "|      709|Mountain Bike Soc...|    SO-B909-M|White|      3.3963|   9.5000|   M|   null|               27|            18|2005-07-01T00:00:...|2006-06-30T00:00:...|            null|   [B@54816b9f|  no_image_availabl...|18f95f47-1540-4e0...|2008-03-11T10:01:...|               low standard|\n",
      "|      710|Mountain Bike Soc...|    SO-B909-L|White|      3.3963|   9.5000|   L|   null|               27|            18|2005-07-01T00:00:...|2006-06-30T00:00:...|            null|   [B@15cd957a|  no_image_availabl...|161c035e-21b3-4e1...|2008-03-11T10:01:...|               low standard|\n",
      "|      711|Sport-100 Helmet,...|    HL-U509-B| Blue|     13.0863|  34.9900|null|   null|               35|            33|2005-07-01T00:00:...|                null|            null|   [B@6b15c69e|  no_image_availabl...|fd7c0858-4179-48c...|2008-03-11T10:01:...|               low standard|\n",
      "|      712|        AWC Logo Cap|      CA-1098|Multi|      6.9223|   8.9900|null|   null|               23|             2|2005-07-01T00:00:...|                null|            null|   [B@7c78c993|  no_image_availabl...|b9ede243-a6f4-462...|2008-03-11T10:01:...|               low standard|\n",
      "|      713|Long-Sleeve Logo ...|    LJ-0192-S|Multi|     38.4923|  49.9900|   S|   null|               25|            11|2005-07-01T00:00:...|                null|            null|   [B@237a8810|  awc_jersey_male_s...|fd449c82-a259-4fa...|2008-03-11T10:01:...|               low standard|\n",
      "|      714|Long-Sleeve Logo ...|    LJ-0192-M|Multi|     38.4923|  49.9900|   M|   null|               25|            11|2005-07-01T00:00:...|                null|            null|   [B@5ae5bf40|  awc_jersey_male_s...|6a290063-a0cf-432...|2008-03-11T10:01:...|               low standard|\n",
      "|      715|Long-Sleeve Logo ...|    LJ-0192-L|Multi|     38.4923|  49.9900|   L|   null|               25|            11|2005-07-01T00:00:...|                null|            null|   [B@1f81a3b4|  awc_jersey_male_s...|34cf5ef5-c077-4ea...|2008-03-11T10:01:...|               low standard|\n",
      "|      716|Long-Sleeve Logo ...|    LJ-0192-X|Multi|     38.4923|  49.9900|  XL|   null|               25|            11|2005-07-01T00:00:...|                null|            null|   [B@250fc586|  awc_jersey_male_s...|6ec47ec9-c041-4dd...|2008-03-11T10:01:...|               low standard|\n",
      "|      717|HL Road Frame - R...|   FR-R92R-62|  Red|    868.6342|1431.5000|  62|1043.26|               18|             6|2005-07-01T00:00:...|                null|            null|   [B@5242e33f|  no_image_availabl...|052e4f8b-0a2a-46b...|2008-03-11T10:01:...|            medium standard|\n",
      "|      718|HL Road Frame - R...|   FR-R92R-44|  Red|    868.6342|1431.5000|  44| 961.61|               18|             6|2005-07-01T00:00:...|                null|            null|   [B@252a5988|  no_image_availabl...|a88d3b54-2cae-43f...|2008-03-11T10:01:...|            medium standard|\n",
      "|      719|HL Road Frame - R...|   FR-R92R-48|  Red|    868.6342|1431.5000|  48| 979.75|               18|             6|2005-07-01T00:00:...|                null|            null|   [B@37a4d29a|  no_image_availabl...|07befc9a-7634-402...|2008-03-11T10:01:...|            medium standard|\n",
      "|      720|HL Road Frame - R...|   FR-R92R-52|  Red|    868.6342|1431.5000|  52| 997.90|               18|             6|2005-07-01T00:00:...|                null|            null|   [B@6c5c121d|  no_image_availabl...|fcfea68f-310e-4e6...|2008-03-11T10:01:...|            medium standard|\n",
      "|      721|HL Road Frame - R...|   FR-R92R-56|  Red|    868.6342|1431.5000|  56|1016.04|               18|             6|2005-07-01T00:00:...|                null|            null|   [B@29c25fb2|  no_image_availabl...|56c85873-4993-41b...|2008-03-11T10:01:...|            medium standard|\n",
      "|      722|LL Road Frame - B...|   FR-R38B-58|Black|    204.6251| 337.2200|  58|1115.83|               18|             9|2005-07-01T00:00:...|                null|            null|   [B@5ed3b51b|  no_image_availabl...|2140f256-f705-4d6...|2008-03-11T10:01:...|               low standard|\n",
      "|      723|LL Road Frame - B...|   FR-R38B-60|Black|    204.6251| 337.2200|  60|1124.90|               18|             9|2005-07-01T00:00:...|                null|            null|   [B@4f728c59|  no_image_availabl...|aa95e2a5-e7c4-4b7...|2008-03-11T10:01:...|               low standard|\n",
      "|      724|LL Road Frame - B...|   FR-R38B-62|Black|    204.6251| 337.2200|  62|1133.98|               18|             9|2005-07-01T00:00:...|                null|            null|   [B@4332a350|  no_image_availabl...|5247be33-50bf-452...|2008-03-11T10:01:...|               low standard|\n",
      "+---------+--------------------+-------------+-----+------------+---------+----+-------+-----------------+--------------+--------------------+--------------------+----------------+--------------+----------------------+--------------------+--------------------+---------------------------+\n",
      "only showing top 20 rows\n",
      "\n"
     ]
    }
   ],
   "source": [
    "\n",
    "\n",
    "condition_df = df.withColumn(\"Conditional Syandard Column\",\n",
    "    when(col(\"StandardCost\") <= 500, \"low standard\")\n",
    "        .when(col(\"StandardCost\") <= 1000, \"medium standard\")\n",
    "        .when(col(\"StandardCost\") <= 2001, \"High Standard\")\n",
    "        .otherwise(\"Very High Standard\")\n",
    ").show()"
   ]
  },
  {
   "cell_type": "markdown",
   "id": "ee398f05",
   "metadata": {},
   "source": [
    "### converting string to double"
   ]
  },
  {
   "cell_type": "code",
   "execution_count": 22,
   "id": "83d4686b",
   "metadata": {},
   "outputs": [
    {
     "name": "stdout",
     "output_type": "stream",
     "text": [
      "root\n",
      " |-- ProductID: string (nullable = true)\n",
      " |-- Name: string (nullable = true)\n",
      " |-- ProductNumber: string (nullable = true)\n",
      " |-- Color: string (nullable = true)\n",
      " |-- StandardCost: string (nullable = true)\n",
      " |-- ListPrice: string (nullable = true)\n",
      " |-- Size: string (nullable = true)\n",
      " |-- Weight: string (nullable = true)\n",
      " |-- ProductCategoryID: string (nullable = true)\n",
      " |-- ProductModelID: string (nullable = true)\n",
      " |-- SellStartDate: string (nullable = true)\n",
      " |-- SellEndDate: string (nullable = true)\n",
      " |-- DiscontinuedDate: string (nullable = true)\n",
      " |-- ThumbNailPhoto: string (nullable = true)\n",
      " |-- ThumbnailPhotoFileName: string (nullable = true)\n",
      " |-- rowguid: string (nullable = true)\n",
      " |-- ModifiedDate: string (nullable = true)\n",
      "\n"
     ]
    }
   ],
   "source": [
    "\n",
    "df.printSchema()\n"
   ]
  },
  {
   "cell_type": "code",
   "execution_count": 24,
   "id": "41c808c2",
   "metadata": {},
   "outputs": [],
   "source": [
    "string_double_df = df.withColumn(\"new_productModelID\",col(\"ProductModelID\").cast(\"double\"))"
   ]
  },
  {
   "cell_type": "code",
   "execution_count": 26,
   "id": "33b3ebcc",
   "metadata": {},
   "outputs": [
    {
     "name": "stdout",
     "output_type": "stream",
     "text": [
      "+---------+--------------------+-------------+-----+------------+---------+----+-------+-----------------+--------------+--------------------+-----------+----------------+--------------+----------------------+--------------------+--------------------+------------------+\n",
      "|ProductID|                Name|ProductNumber|Color|StandardCost|ListPrice|Size| Weight|ProductCategoryID|ProductModelID|       SellStartDate|SellEndDate|DiscontinuedDate|ThumbNailPhoto|ThumbnailPhotoFileName|             rowguid|        ModifiedDate|new_productModelID|\n",
      "+---------+--------------------+-------------+-----+------------+---------+----+-------+-----------------+--------------+--------------------+-----------+----------------+--------------+----------------------+--------------------+--------------------+------------------+\n",
      "|      680|HL Road Frame - B...|   FR-R92B-58|Black|   1059.3100|1431.5000|  58|1016.04|               18|             6|2002-06-01T00:00:...|       null|            null|   [B@7fa7208e|  no_image_availabl...|43dd68d6-14a4-461...|2008-03-11T10:01:...|               6.0|\n",
      "|      706|HL Road Frame - R...|   FR-R92R-58|  Red|   1059.3100|1431.5000|  58|1016.04|               18|             6|2002-06-01T00:00:...|       null|            null|   [B@4941099c|  no_image_availabl...|9540ff17-2712-4c9...|2008-03-11T10:01:...|               6.0|\n",
      "|      707|Sport-100 Helmet,...|    HL-U509-R|  Red|     13.0863|  34.9900|null|   null|               35|            33|2005-07-01T00:00:...|       null|            null|   [B@271b37ba|  no_image_availabl...|2e1ef41a-c08a-4ff...|2008-03-11T10:01:...|              33.0|\n",
      "+---------+--------------------+-------------+-----+------------+---------+----+-------+-----------------+--------------+--------------------+-----------+----------------+--------------+----------------------+--------------------+--------------------+------------------+\n",
      "only showing top 3 rows\n",
      "\n"
     ]
    }
   ],
   "source": [
    "string_double_df.show(3)"
   ]
  },
  {
   "cell_type": "markdown",
   "id": "1f133e9f",
   "metadata": {},
   "source": [
    "### Now You can see the new_productModelID as Double column data type"
   ]
  },
  {
   "cell_type": "code",
   "execution_count": 27,
   "id": "7c373c04",
   "metadata": {},
   "outputs": [
    {
     "name": "stdout",
     "output_type": "stream",
     "text": [
      "root\n",
      " |-- ProductID: string (nullable = true)\n",
      " |-- Name: string (nullable = true)\n",
      " |-- ProductNumber: string (nullable = true)\n",
      " |-- Color: string (nullable = true)\n",
      " |-- StandardCost: string (nullable = true)\n",
      " |-- ListPrice: string (nullable = true)\n",
      " |-- Size: string (nullable = true)\n",
      " |-- Weight: string (nullable = true)\n",
      " |-- ProductCategoryID: string (nullable = true)\n",
      " |-- ProductModelID: string (nullable = true)\n",
      " |-- SellStartDate: string (nullable = true)\n",
      " |-- SellEndDate: string (nullable = true)\n",
      " |-- DiscontinuedDate: string (nullable = true)\n",
      " |-- ThumbNailPhoto: string (nullable = true)\n",
      " |-- ThumbnailPhotoFileName: string (nullable = true)\n",
      " |-- rowguid: string (nullable = true)\n",
      " |-- ModifiedDate: string (nullable = true)\n",
      " |-- new_productModelID: double (nullable = true)\n",
      "\n"
     ]
    }
   ],
   "source": [
    "string_double_df.printSchema()"
   ]
  },
  {
   "cell_type": "markdown",
   "id": "2c3f1d8e",
   "metadata": {},
   "source": [
    "### Convert String to INT"
   ]
  },
  {
   "cell_type": "code",
   "execution_count": 28,
   "id": "8037b62c",
   "metadata": {},
   "outputs": [],
   "source": [
    "string_int_df = df.withColumn(\"ListPrice\", col(\"ListPrice\").cast(\"int\"))"
   ]
  },
  {
   "cell_type": "code",
   "execution_count": 29,
   "id": "baf2438b",
   "metadata": {},
   "outputs": [
    {
     "name": "stdout",
     "output_type": "stream",
     "text": [
      "root\n",
      " |-- ProductID: string (nullable = true)\n",
      " |-- Name: string (nullable = true)\n",
      " |-- ProductNumber: string (nullable = true)\n",
      " |-- Color: string (nullable = true)\n",
      " |-- StandardCost: string (nullable = true)\n",
      " |-- ListPrice: integer (nullable = true)\n",
      " |-- Size: string (nullable = true)\n",
      " |-- Weight: string (nullable = true)\n",
      " |-- ProductCategoryID: string (nullable = true)\n",
      " |-- ProductModelID: string (nullable = true)\n",
      " |-- SellStartDate: string (nullable = true)\n",
      " |-- SellEndDate: string (nullable = true)\n",
      " |-- DiscontinuedDate: string (nullable = true)\n",
      " |-- ThumbNailPhoto: string (nullable = true)\n",
      " |-- ThumbnailPhotoFileName: string (nullable = true)\n",
      " |-- rowguid: string (nullable = true)\n",
      " |-- ModifiedDate: string (nullable = true)\n",
      "\n"
     ]
    }
   ],
   "source": [
    "string_int_df.printSchema()"
   ]
  },
  {
   "cell_type": "markdown",
   "id": "727604b5",
   "metadata": {},
   "source": [
    "### Get size of dataframe"
   ]
  },
  {
   "cell_type": "code",
   "execution_count": 30,
   "id": "660db046",
   "metadata": {},
   "outputs": [
    {
     "name": "stdout",
     "output_type": "stream",
     "text": [
      "295 rows\n",
      "17 columns\n"
     ]
    }
   ],
   "source": [
    "print(\"{} rows\".format(df.count()))\n",
    "print(\"{} columns\".format(len(df.columns)))"
   ]
  },
  {
   "cell_type": "markdown",
   "id": "ef322083",
   "metadata": {},
   "source": [
    "### Get Number of Partitions"
   ]
  },
  {
   "cell_type": "code",
   "execution_count": 31,
   "id": "593bc69d",
   "metadata": {},
   "outputs": [
    {
     "name": "stdout",
     "output_type": "stream",
     "text": [
      "1 partition(s)\n"
     ]
    }
   ],
   "source": [
    "print(\"{} partition(s)\".format(df.rdd.getNumPartitions()))"
   ]
  },
  {
   "cell_type": "markdown",
   "id": "1aef2b43",
   "metadata": {},
   "source": [
    "### Get data types of a DataFrame's columns"
   ]
  },
  {
   "cell_type": "code",
   "execution_count": 32,
   "id": "95ff9e19",
   "metadata": {},
   "outputs": [
    {
     "name": "stdout",
     "output_type": "stream",
     "text": [
      "[('ProductID', 'string'), ('Name', 'string'), ('ProductNumber', 'string'), ('Color', 'string'), ('StandardCost', 'string'), ('ListPrice', 'string'), ('Size', 'string'), ('Weight', 'string'), ('ProductCategoryID', 'string'), ('ProductModelID', 'string'), ('SellStartDate', 'string'), ('SellEndDate', 'string'), ('DiscontinuedDate', 'string'), ('ThumbNailPhoto', 'string'), ('ThumbnailPhotoFileName', 'string'), ('rowguid', 'string'), ('ModifiedDate', 'string')]\n"
     ]
    }
   ],
   "source": [
    "print(df.dtypes)"
   ]
  },
  {
   "cell_type": "code",
   "execution_count": null,
   "id": "05d2a836",
   "metadata": {},
   "outputs": [],
   "source": []
  }
 ],
 "metadata": {
  "kernelspec": {
   "display_name": "Python 3 (ipykernel)",
   "language": "python",
   "name": "python3"
  },
  "language_info": {
   "codemirror_mode": {
    "name": "ipython",
    "version": 3
   },
   "file_extension": ".py",
   "mimetype": "text/x-python",
   "name": "python",
   "nbconvert_exporter": "python",
   "pygments_lexer": "ipython3",
   "version": "3.9.7"
  }
 },
 "nbformat": 4,
 "nbformat_minor": 5
}
